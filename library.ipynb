{
 "cells": [
  {
   "cell_type": "code",
   "execution_count": 1,
   "id": "ee082e63",
   "metadata": {},
   "outputs": [],
   "source": [
    "import mysql.connector"
   ]
  },
  {
   "cell_type": "code",
   "execution_count": 2,
   "id": "b39d8107",
   "metadata": {},
   "outputs": [],
   "source": [
    "mydb = mysql.connector.connect(\n",
    "  host=\"localhost\",\n",
    "  user=\"root\",\n",
    "  password=\"sneha_ptl\"\n",
    ")"
   ]
  },
  {
   "cell_type": "code",
   "execution_count": 3,
   "id": "a86adb46",
   "metadata": {},
   "outputs": [],
   "source": [
    "mycursor = mydb.cursor()"
   ]
  },
  {
   "cell_type": "code",
   "execution_count": 4,
   "id": "e6ba4450",
   "metadata": {},
   "outputs": [],
   "source": [
    "mycursor.execute(\"USE library_db\")"
   ]
  },
  {
   "cell_type": "code",
   "execution_count": 5,
   "id": "11f87c5e",
   "metadata": {},
   "outputs": [],
   "source": [
    "mycursor = mydb.cursor()\n",
    "\n",
    "sql = \"DROP TABLE IF EXISTS Books\"\n",
    "\n",
    "mycursor.execute(sql)"
   ]
  },
  {
   "cell_type": "code",
   "execution_count": 6,
   "id": "da7bcbe5",
   "metadata": {},
   "outputs": [],
   "source": [
    "query = \"\"\"\n",
    "CREATE TABLE Books(\n",
    "book_id INT AUTO_INCREMENT PRIMARY KEY,\n",
    "title VARCHAR(255) NOT NULL,\n",
    "author VARCHAR(255) NOT NULL,\n",
    "genre VARCHAR(100),\n",
    "published_year YEAR,\n",
    "is_available BOOLEAN DEFAULT TRUE);\n",
    "\"\"\"\n",
    "mycursor.execute(query)"
   ]
  },
  {
   "cell_type": "code",
   "execution_count": 7,
   "id": "cc379313",
   "metadata": {},
   "outputs": [
    {
     "name": "stdout",
     "output_type": "stream",
     "text": [
      "Book inserted successfully.\n"
     ]
    }
   ],
   "source": [
    "def insert_Books(book_id,title,author,genre,published_year,is_available): \n",
    "    query = \"INSERT INTO Books (book_id, title, author, genre, published_year, is_available) \" \\\n",
    "            \"VALUES (%s, %s, %s, %s, %s, %s)\"\n",
    "    values = (book_id,title,author,genre,published_year,is_available) \n",
    "    try: \n",
    "        mycursor.execute(query, values) \n",
    "        mydb.commit() \n",
    "        print(\"Book inserted successfully.\") \n",
    "    except mysql.connector.Error as err: \n",
    "        print(f\"Error inserting book: {err}\") \n",
    " \n",
    "insert_Books(\"2\", \"The Jungle Book\", \"Rudyard Kipling\", \"Fable\", \"2025\", True)"
   ]
  },
  {
   "cell_type": "code",
   "execution_count": 8,
   "id": "235306e0",
   "metadata": {},
   "outputs": [
    {
     "name": "stdout",
     "output_type": "stream",
     "text": [
      "Book inserted successfully.\n"
     ]
    }
   ],
   "source": [
    "def insert_Books(book_id,title,author,genre,published_year,is_available): \n",
    "    query = \"INSERT INTO Books (book_id, title, author, genre, published_year, is_available) \" \\\n",
    "            \"VALUES (%s, %s, %s, %s, %s, %s)\"\n",
    "    values = (book_id,title,author,genre,published_year,is_available) \n",
    "    try: \n",
    "        mycursor.execute(query, values) \n",
    "        mydb.commit() \n",
    "        print(\"Book inserted successfully.\") \n",
    "    except mysql.connector.Error as err: \n",
    "        print(f\"Error inserting book: {err}\") \n",
    " \n",
    "insert_Books(\"3\", \"The Silent Patient\", \"Alex Michaelides\", \"Psychological Thriller\", \"2019\", True)"
   ]
  },
  {
   "cell_type": "code",
   "execution_count": 9,
   "id": "487130ce",
   "metadata": {},
   "outputs": [
    {
     "name": "stdout",
     "output_type": "stream",
     "text": [
      "Book inserted successfully.\n"
     ]
    }
   ],
   "source": [
    "def insert_Books(book_id,title,author,genre,published_year,is_available): \n",
    "    query = \"INSERT INTO Books (book_id, title, author, genre, published_year, is_available) \" \\\n",
    "            \"VALUES (%s, %s, %s, %s, %s, %s)\"\n",
    "    values = (book_id,title,author,genre,published_year,is_available) \n",
    "    try: \n",
    "        mycursor.execute(query, values) \n",
    "        mydb.commit() \n",
    "        print(\"Book inserted successfully.\") \n",
    "    except mysql.connector.Error as err: \n",
    "        print(f\"Error inserting book: {err}\") \n",
    " \n",
    "insert_Books(\"1\",\"Sapiens\", \"Yuval Noah Harari\", \"History\", \"2011\", True)"
   ]
  },
  {
   "cell_type": "code",
   "execution_count": 10,
   "id": "2be8ec4a",
   "metadata": {},
   "outputs": [
    {
     "name": "stdout",
     "output_type": "stream",
     "text": [
      "Book inserted successfully.\n"
     ]
    }
   ],
   "source": [
    "def insert_Books(book_id,title,author,genre,published_year,is_available): \n",
    "    query = \"INSERT INTO Books (book_id, title, author, genre, published_year, is_available) \" \\\n",
    "            \"VALUES (%s, %s, %s, %s, %s, %s)\"\n",
    "    values = (book_id,title,author,genre,published_year,is_available) \n",
    "    try: \n",
    "        mycursor.execute(query, values) \n",
    "        mydb.commit() \n",
    "        print(\"Book inserted successfully.\") \n",
    "    except mysql.connector.Error as err: \n",
    "        print(f\"Error inserting book: {err}\") \n",
    " \n",
    "insert_Books(\"4\",\"1984\", \"George Orwell\", \"Dystopian Fiction\", \"1949\", True)"
   ]
  },
  {
   "cell_type": "code",
   "execution_count": 11,
   "id": "a6e75bed",
   "metadata": {},
   "outputs": [
    {
     "name": "stdout",
     "output_type": "stream",
     "text": [
      "Book inserted successfully.\n"
     ]
    }
   ],
   "source": [
    "def insert_Books(book_id,title,author,genre,published_year,is_available): \n",
    "    query = \"INSERT INTO Books (book_id, title, author, genre, published_year, is_available) \" \\\n",
    "            \"VALUES (%s, %s, %s, %s, %s, %s)\"\n",
    "    values = (book_id,title,author,genre,published_year,is_available) \n",
    "    try: \n",
    "        mycursor.execute(query, values) \n",
    "        mydb.commit() \n",
    "        print(\"Book inserted successfully.\") \n",
    "    except mysql.connector.Error as err: \n",
    "        print(f\"Error inserting book: {err}\") \n",
    " \n",
    "insert_Books(\"5\",\"The Midnight Library\", \"Matt Haig\", \"Fiction\", \"2020\", False)"
   ]
  },
  {
   "cell_type": "code",
   "execution_count": 12,
   "id": "b8c30e75",
   "metadata": {},
   "outputs": [
    {
     "name": "stdout",
     "output_type": "stream",
     "text": [
      "[(1, 'Sapiens', 'Yuval Noah Harari', 'History', 2011, 1), (2, 'The Jungle Book', 'Rudyard Kipling', 'Fable', 2025, 1), (3, 'The Silent Patient', 'Alex Michaelides', 'Psychological Thriller', 2019, 1), (4, '1984', 'George Orwell', 'Dystopian Fiction', 1949, 1), (5, 'The Midnight Library', 'Matt Haig', 'Fiction', 2020, 0)]\n"
     ]
    }
   ],
   "source": [
    "def print_order():\n",
    "    query = \"SELECT * FROM Books ORDER BY book_id\"\n",
    "\n",
    "    mycursor.execute(query)\n",
    "\n",
    "    myresult = mycursor.fetchall()\n",
    "    print(myresult)\n",
    "print_order()  "
   ]
  },
  {
   "cell_type": "code",
   "execution_count": 13,
   "id": "84ac52f5",
   "metadata": {},
   "outputs": [
    {
     "name": "stdout",
     "output_type": "stream",
     "text": [
      "(1, 'Sapiens', 'Yuval Noah Harari', 'History', 2011, 1)\n",
      "\n",
      "\n",
      "(2, 'The Jungle Book', 'Rudyard Kipling', 'Fable', 2025, 1)\n",
      "\n",
      "\n",
      "(3, 'The Silent Patient', 'Alex Michaelides', 'Psychological Thriller', 2019, 1)\n",
      "\n",
      "\n",
      "(4, '1984', 'George Orwell', 'Dystopian Fiction', 1949, 1)\n",
      "\n",
      "\n",
      "(5, 'The Midnight Library', 'Matt Haig', 'Fiction', 2020, 0)\n",
      "\n",
      "\n"
     ]
    }
   ],
   "source": [
    "mycursor.execute(\"SELECT * FROM Books\") \n",
    "  \n",
    "# fetch all the matching rows  \n",
    "result = mycursor.fetchall() \n",
    "  \n",
    "# loop through the rows \n",
    "for row in result: \n",
    "    print(row) \n",
    "    print(\"\\n\") "
   ]
  },
  {
   "cell_type": "code",
   "execution_count": 14,
   "id": "29ba532b",
   "metadata": {},
   "outputs": [
    {
     "name": "stdout",
     "output_type": "stream",
     "text": [
      "|book_id   |title               |author             |genre                 |published_year|is_available|\n",
      "|         1|Sapiens             |Yuval Noah Harari  |History               |          2011|           1|\n",
      "|         2|The Jungle Book     |Rudyard Kipling    |Fable                 |          2025|           1|\n",
      "|         3|The Silent Patient  |Alex Michaelides   |Psychological Thriller|          2019|           1|\n",
      "|         4|1984                |George Orwell      |Dystopian Fiction     |          1949|           1|\n",
      "|         5|The Midnight Library|Matt Haig          |Fiction               |          2020|           0|\n"
     ]
    }
   ],
   "source": [
    "mycursor.execute(\"SELECT * FROM Books\")\n",
    "\n",
    "myresult = mycursor.fetchall()\n",
    "\n",
    "header = ['book_id', 'title', 'author', 'genre', 'published_year', 'is_available']\n",
    "print(\"|{:10}|{:20}|{:19}|{:22}|{:14}|{:9}|\".format(*header))\n",
    "for j in result:\n",
    "    print(\"|{:10}|{:20}|{:19}|{:22}|{:14}|{:12}|\".format(*j))"
   ]
  },
  {
   "cell_type": "code",
   "execution_count": 15,
   "id": "fea5f021",
   "metadata": {},
   "outputs": [],
   "source": [
    "mycursor = mydb.cursor()\n",
    "\n",
    "sql = \"DROP TABLE IF EXISTS Members\"\n",
    "\n",
    "mycursor.execute(sql)"
   ]
  },
  {
   "cell_type": "code",
   "execution_count": 16,
   "id": "68559fe4",
   "metadata": {},
   "outputs": [],
   "source": [
    "query = \"\"\"\n",
    "CREATE TABLE Members (\n",
    "    member_id INT NOT NULL AUTO_INCREMENT PRIMARY KEY,\n",
    "    name VARCHAR(255) NOT NULL,\n",
    "    email VARCHAR(255),\n",
    "    phone_number VARCHAR(15),\n",
    "    join_date DATE DEFAULT (CURRENT_DATE)\n",
    ");\n",
    "\"\"\"\n",
    "mycursor.execute(query)"
   ]
  },
  {
   "cell_type": "code",
   "execution_count": 17,
   "id": "4ee20e09",
   "metadata": {},
   "outputs": [],
   "source": [
    "def insert_Members(member_id,name,email,phone_number,join_date): \n",
    "    query = \"INSERT INTO Members (member_id,name,email,phone_number,join_date) \" \\\n",
    "            \"VALUES (%s, %s, %s, %s, %s, %s)\"\n",
    "    values = (member_id,name,email,phone_number,join_date) \n",
    "    try: \n",
    "        mycursor.execute(query, values) \n",
    "        mydb.commit() \n",
    "        print(\"Book inserted successfully.\") \n",
    "    except mysql.connector.Error as err: \n",
    "        print(f\"Error inserting book: {err}\") "
   ]
  },
  {
   "cell_type": "code",
   "execution_count": 18,
   "id": "ecdd9202",
   "metadata": {},
   "outputs": [],
   "source": [
    "query = \"\"\"\n",
    "INSERT INTO Members (name, email, phone_number) VALUES\n",
    "('Alen King', 'alenking@example.com', '1234567890'),\n",
    "('Alece Hofman', 'alecehofman@example.com', '9876543210');\n",
    "\"\"\"\n",
    "mycursor.execute(query)"
   ]
  },
  {
   "cell_type": "code",
   "execution_count": 19,
   "id": "e203dbef",
   "metadata": {},
   "outputs": [
    {
     "name": "stdout",
     "output_type": "stream",
     "text": [
      "[(1, 'Alen King', 'alenking@example.com', '1234567890', datetime.date(2025, 7, 18)), (2, 'Alece Hofman', 'alecehofman@example.com', '9876543210', datetime.date(2025, 7, 18))]\n"
     ]
    }
   ],
   "source": [
    "def print_order():\n",
    "    query = \"SELECT * FROM Members ORDER BY member_id\"\n",
    "\n",
    "    mycursor.execute(query)\n",
    "\n",
    "    myresult = mycursor.fetchall()\n",
    "    print(myresult)\n",
    "print_order()  "
   ]
  },
  {
   "cell_type": "code",
   "execution_count": 20,
   "id": "5ed1d8fb",
   "metadata": {},
   "outputs": [
    {
     "name": "stdout",
     "output_type": "stream",
     "text": [
      "(1, 'Alen King', 'alenking@example.com', '1234567890', datetime.date(2025, 7, 18))\n",
      "\n",
      "\n",
      "(2, 'Alece Hofman', 'alecehofman@example.com', '9876543210', datetime.date(2025, 7, 18))\n",
      "\n",
      "\n"
     ]
    }
   ],
   "source": [
    "mycursor.execute(\"SELECT * FROM Members\") \n",
    "result = mycursor.fetchall() \n",
    "for row in result: \n",
    "    print(row) \n",
    "    print(\"\\n\") "
   ]
  },
  {
   "cell_type": "code",
   "execution_count": 21,
   "id": "703d8734",
   "metadata": {},
   "outputs": [
    {
     "name": "stdout",
     "output_type": "stream",
     "text": [
      "|member_id |name         |email                  |phone_number          |join_date |\n",
      "|         1|Alen King    |alenking@example.com   |1234567890            |2025-07-18|\n",
      "|         2|Alece Hofman |alecehofman@example.com|9876543210            |2025-07-18|\n"
     ]
    }
   ],
   "source": [
    "mycursor.execute(\"SELECT * FROM Members\")\n",
    "\n",
    "myresult = mycursor.fetchall()\n",
    "\n",
    "header = ['member_id','name','email','phone_number','join_date']\n",
    "print(\"|{:10}|{:13}|{:23}|{:22}|{:10}|\".format(*header))\n",
    "for j in result:\n",
    "    print(\"|{:10}|{:13}|{:23}|{:22}|{:}|\".format(*j))"
   ]
  },
  {
   "cell_type": "code",
   "execution_count": 22,
   "id": "d2025eb6",
   "metadata": {},
   "outputs": [],
   "source": [
    "mycursor = mydb.cursor()\n",
    "\n",
    "sql = \"DROP TABLE IF EXISTS Borrowing\"\n",
    "\n",
    "mycursor.execute(sql)"
   ]
  },
  {
   "cell_type": "code",
   "execution_count": 23,
   "id": "a060411e",
   "metadata": {},
   "outputs": [],
   "source": [
    "query = \"\"\"\n",
    "CREATE TABLE Borrowing (\n",
    "    loan_id INT NOT NULL AUTO_INCREMENT PRIMARY KEY,\n",
    "    book_id INT,\n",
    "    member_id INT,\n",
    "    borrow_date DATE DEFAULT (CURRENT_DATE),\n",
    "    return_date DATE);\n",
    "\"\"\"\n",
    "\n",
    "mycursor.execute(query)"
   ]
  },
  {
   "cell_type": "code",
   "execution_count": 24,
   "id": "fc2966ed",
   "metadata": {},
   "outputs": [],
   "source": [
    "def insert_Borrowing (loan_id,book_id,member_id,borrow_id,return_date): \n",
    "    query = \"INSERT INTO Members (loan_id,book_id,member_id,borrow_id,return_date) \" \\\n",
    "            \"VALUES (%s, %s, %s, %s, %s, %s)\"\n",
    "    values = (loan_id,book_id,member_id,borrow_id,return_date) \n",
    "    try: \n",
    "        mycursor.execute(query, values) \n",
    "        mydb.commit() \n",
    "        print(\"Book inserted successfully.\") \n",
    "    except mysql.connector.Error as err: \n",
    "        print(f\"Error inserting book: {err}\") "
   ]
  },
  {
   "cell_type": "code",
   "execution_count": 25,
   "id": "3cc04bc1",
   "metadata": {},
   "outputs": [],
   "source": [
    "query = \"\"\"\n",
    "INSERT INTO Borrowing (book_id, member_id,borrow_date)\n",
    "VALUES (1, 1, CURRENT_DATE),(3,2, CURRENT_DATE);\n",
    "\"\"\"\n",
    "mycursor.execute(query)"
   ]
  },
  {
   "cell_type": "code",
   "execution_count": 26,
   "id": "ab0889fb",
   "metadata": {},
   "outputs": [
    {
     "name": "stdout",
     "output_type": "stream",
     "text": [
      "[(1, 1, 1, datetime.date(2025, 7, 18), None), (2, 3, 2, datetime.date(2025, 7, 18), None)]\n"
     ]
    }
   ],
   "source": [
    "def print_order():\n",
    "    query = \"SELECT * FROM Borrowing ORDER BY book_id\"\n",
    "\n",
    "    mycursor.execute(query)\n",
    "\n",
    "    myresult = mycursor.fetchall()\n",
    "    print(myresult)\n",
    "print_order()  "
   ]
  },
  {
   "cell_type": "code",
   "execution_count": 27,
   "id": "cc7e2dab",
   "metadata": {},
   "outputs": [
    {
     "name": "stdout",
     "output_type": "stream",
     "text": [
      "|loan_id   |book_id      |member_id              |borrow_id             |return_date|\n",
      "|         1|Alen King    |alenking@example.com   |1234567890            |2025-07-18|\n",
      "|         2|Alece Hofman |alecehofman@example.com|9876543210            |2025-07-18|\n"
     ]
    }
   ],
   "source": [
    "mycursor.execute(\"SELECT * FROM Borrowing\")\n",
    "\n",
    "myresult = mycursor.fetchall()\n",
    "\n",
    "header = ['loan_id','book_id','member_id','borrow_id','return_date']\n",
    "print(\"|{:10}|{:13}|{:23}|{:22}|{:10}|\".format(*header))\n",
    "for j in result:\n",
    "    print(\"|{:10}|{:13}|{:23}|{:22}|{:}|\".format(*j))"
   ]
  },
  {
   "cell_type": "code",
   "execution_count": 34,
   "id": "2e6d8dde",
   "metadata": {},
   "outputs": [
    {
     "name": "stdout",
     "output_type": "stream",
     "text": [
      "(5, 'The Midnight Library', 'Matt Haig', 'Fiction', 2020, 0)\n"
     ]
    }
   ],
   "source": [
    "mycursor.execute(\"SELECT * FROM Books WHERE Book_id = 5\")\n",
    "result = mycursor.fetchone()\n",
    "print(result)\n"
   ]
  },
  {
   "cell_type": "code",
   "execution_count": 30,
   "id": "50a8f416",
   "metadata": {},
   "outputs": [
    {
     "name": "stdout",
     "output_type": "stream",
     "text": [
      "2 record(s) deleted\n"
     ]
    }
   ],
   "source": [
    "def delete_value ():\n",
    "     mycursor = mydb.cursor()\n",
    "     sql = \"DELETE FROM Books WHERE genre= 'History'\"\n",
    "\n",
    "     mycursor.execute(sql)\n",
    "\n",
    "     mydb.commit()\n",
    "\n",
    "print (mycursor.rowcount, \"record(s) deleted\")\n",
    "delete_value()"
   ]
  },
  {
   "cell_type": "code",
   "execution_count": null,
   "id": "4d17832e-70c4-4635-81cc-8b78ae33a86d",
   "metadata": {},
   "outputs": [],
   "source": []
  }
 ],
 "metadata": {
  "kernelspec": {
   "display_name": "Python 3 (ipykernel)",
   "language": "python",
   "name": "python3"
  },
  "language_info": {
   "codemirror_mode": {
    "name": "ipython",
    "version": 3
   },
   "file_extension": ".py",
   "mimetype": "text/x-python",
   "name": "python",
   "nbconvert_exporter": "python",
   "pygments_lexer": "ipython3",
   "version": "3.13.2"
  },
  "widgets": {
   "application/vnd.jupyter.widget-state+json": {
    "state": {},
    "version_major": 2,
    "version_minor": 0
   }
  }
 },
 "nbformat": 4,
 "nbformat_minor": 5
}
